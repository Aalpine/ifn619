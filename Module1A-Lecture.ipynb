{
 "cells": [
  {
   "cell_type": "markdown",
   "metadata": {
    "slideshow": {
     "slide_type": "slide"
    }
   },
   "source": [
    "<div class=\"alert alert-block alert-success\"><h3>IFN619 - Data Analytics for Strategic Decision Makers</h4></div>"
   ]
  },
  {
   "cell_type": "markdown",
   "metadata": {
    "slideshow": {
     "slide_type": "fragment"
    }
   },
   "source": [
    "## Module 1A Lecture\n",
    "\n",
    "1. Recap\n",
    "2. Decision theory\n",
    "3. Retrieving data from APIs\n",
    "4. Analysing unstructured data\n",
    "5. Visualising with HTML\n",
    "6. Introducing Assignments 1 & 3"
   ]
  },
  {
   "cell_type": "markdown",
   "metadata": {
    "slideshow": {
     "slide_type": "slide"
    }
   },
   "source": [
    "### [1] Recap\n",
    "\n",
    "* Getting familiar with Juoyter notebooks\n",
    "    * Logging in to Jupyter\n",
    "    * Syncing files from GitHub to Jupyter\n",
    "    * Opening notebooks and other files (e.g. CSV files)\n",
    "    * Navigating and using the notebook - markdown and code cells"
   ]
  },
  {
   "cell_type": "markdown",
   "metadata": {
    "slideshow": {
     "slide_type": "slide"
    }
   },
   "source": [
    "* The data analytics cycle (QDAVI)\n",
    "    1. **Q**uestion\n",
    "    2. **D**ata\n",
    "    3. **A**nalysis\n",
    "    4. **V**isualisation\n",
    "    5. **I**nsight\n",
    "    "
   ]
  },
  {
   "cell_type": "markdown",
   "metadata": {
    "slideshow": {
     "slide_type": "slide"
    }
   },
   "source": [
    "* Basics\n",
    "    * Importing libraries\n",
    "    * Loading data into a dataframe from a CSV file\n",
    "    * Extracting data from a dataframe\n",
    "    * Plotting numerical data with matplotlib"
   ]
  },
  {
   "cell_type": "markdown",
   "metadata": {
    "slideshow": {
     "slide_type": "slide"
    }
   },
   "source": [
    "## [2] Decision theory (very briefly)\n",
    "\n",
    "* What?\n",
    "    - Reasoning and Judgements, not just actions\n",
    "    - Preferences over prospects, not just choices\n",
    "    - More than choice under risk, values and beliefs\n",
    "    - Expected Utility\n"
   ]
  },
  {
   "cell_type": "markdown",
   "metadata": {
    "slideshow": {
     "slide_type": "slide"
    }
   },
   "source": [
    "* Why?\n",
    "    - The definition of utility is very important\n",
    "    - The implications of uncertainty are very important\n",
    "    - Are people always rational agents?\n",
    "    - Are data and data analytics objective?"
   ]
  },
  {
   "cell_type": "markdown",
   "metadata": {
    "slideshow": {
     "slide_type": "slide"
    }
   },
   "source": [
    "## [3] Retrieving data from APIs\n",
    "\n",
    "Data is not always conveniently stored in local files.\n",
    "\n",
    "Increasingly data is being made open via **Application Programming Interfaces (APIs)**.\n",
    "\n",
    "First some **functions** to help us. Using functions, we can avoid typing the same (or very similar) code over and over again.\n"
   ]
  },
  {
   "cell_type": "code",
   "execution_count": null,
   "metadata": {},
   "outputs": [],
   "source": [
    "# We will need some libraries...\n",
    "from urllib import request, response\n",
    "import json\n",
    "\n",
    "# Functions to fetch string/json from an API\n",
    "\n",
    "def fetch_string_from_api(url):\n",
    "    req = request.Request(url)\n",
    "    resp = request.urlopen(req)\n",
    "    return resp.read().decode('utf8')\n",
    "\n",
    "def fetch_json_from_api(url):\n",
    "    body = fetch_string_from_api(url) #Uses the function above\n",
    "    return json.loads(body)"
   ]
  },
  {
   "cell_type": "code",
   "execution_count": null,
   "metadata": {
    "slideshow": {
     "slide_type": "-"
    }
   },
   "outputs": [],
   "source": [
    "#Fetch the data for the latest xkcd comic\n",
    "xkcd_url = 'http://xkcd.com/info.0.json'\n",
    "xkcd_json = fetch_json_from_api(xkcd_url)\n",
    "print(xkcd_json)"
   ]
  },
  {
   "cell_type": "code",
   "execution_count": null,
   "metadata": {
    "slideshow": {
     "slide_type": "-"
    }
   },
   "outputs": [],
   "source": [
    "comicUrl = xkcd_json.get(\"img\")\n",
    "print(comicUrl)"
   ]
  },
  {
   "cell_type": "code",
   "execution_count": null,
   "metadata": {
    "slideshow": {
     "slide_type": "-"
    }
   },
   "outputs": [],
   "source": [
    "# A library to display HTML\n",
    "from IPython.core.display import display, HTML\n",
    "\n",
    "# Use the library to display the comic\n",
    "display(HTML('<img src=\"'+comicUrl+'\"/>'))"
   ]
  },
  {
   "cell_type": "markdown",
   "metadata": {},
   "source": [
    "What about something a little more serious?"
   ]
  },
  {
   "cell_type": "code",
   "execution_count": null,
   "metadata": {},
   "outputs": [],
   "source": [
    "country = \"australia\"\n",
    "name = \"queensland\"\n",
    "unis_url = \"http://universities.hipolabs.com/search?country=\"+country+\"&name=\"+name\n",
    "unis_json = fetch_json_from_api(unis_url)\n",
    "print(unis_json)"
   ]
  },
  {
   "cell_type": "code",
   "execution_count": null,
   "metadata": {},
   "outputs": [],
   "source": [
    "len(unis_json)"
   ]
  },
  {
   "cell_type": "code",
   "execution_count": null,
   "metadata": {},
   "outputs": [],
   "source": [
    "for uni in unis_json:\n",
    "    name = uni.get(\"name\")\n",
    "    url = uni.get(\"web_pages\")[0]\n",
    "    link = '<p><a href=\"'+url+'\">'+name+'</a></p>'\n",
    "    display(HTML(link))"
   ]
  },
  {
   "cell_type": "markdown",
   "metadata": {},
   "source": [
    "## [4] Analysing unstructured data\n",
    "* What is structured data?\n",
    "* What is unstructured data?\n",
    "* What is semi-structured data?"
   ]
  },
  {
   "cell_type": "markdown",
   "metadata": {
    "slideshow": {
     "slide_type": "-"
    }
   },
   "source": [
    "With the following code, we transform unstructured data into structured data.\n",
    "\n",
    "We start by loading the data from from the file system. In this case it is a text file of 50 Amazon reviews."
   ]
  },
  {
   "cell_type": "code",
   "execution_count": null,
   "metadata": {
    "slideshow": {
     "slide_type": "-"
    }
   },
   "outputs": [],
   "source": [
    "file = open(\"data/kaggle-amazon_reviews-first50.txt\")\n",
    "rawtext = file.read()\n",
    "file.close()"
   ]
  },
  {
   "cell_type": "code",
   "execution_count": null,
   "metadata": {
    "slideshow": {
     "slide_type": "-"
    }
   },
   "outputs": [],
   "source": [
    "rawtext"
   ]
  },
  {
   "cell_type": "markdown",
   "metadata": {
    "slideshow": {
     "slide_type": "-"
    }
   },
   "source": [
    "Easy first step in structuring the data: split the string into a list of strings"
   ]
  },
  {
   "cell_type": "code",
   "execution_count": null,
   "metadata": {
    "slideshow": {
     "slide_type": "-"
    }
   },
   "outputs": [],
   "source": [
    "reviews = rawtext.split('\\n')\n",
    "if reviews[-1]=='':\n",
    "    del reviews[-1] #Remove last empty item"
   ]
  },
  {
   "cell_type": "code",
   "execution_count": null,
   "metadata": {
    "slideshow": {
     "slide_type": "-"
    }
   },
   "outputs": [],
   "source": [
    "reviews"
   ]
  },
  {
   "cell_type": "markdown",
   "metadata": {
    "slideshow": {
     "slide_type": "-"
    }
   },
   "source": [
    "Now we structured each review further, by extracting the sentiment and the subject."
   ]
  },
  {
   "cell_type": "code",
   "execution_count": null,
   "metadata": {
    "slideshow": {
     "slide_type": "-"
    }
   },
   "outputs": [],
   "source": [
    "import re # Need the python regular expression library for these functions\n",
    "\n",
    "def getSentimentLabel(text):\n",
    "    match = re.search(r\"(?<=__label__)[0-9]+\",text)\n",
    "    value = match.group(0)\n",
    "    if value=='1':\n",
    "        return \"negative\"\n",
    "    elif value=='2':\n",
    "        return \"positive\"\n",
    "\n",
    "def getSubject(text):\n",
    "    split = re.split(r\"(?<=__label__)[0-9]+\",text)\n",
    "    return split[1].strip()"
   ]
  },
  {
   "cell_type": "markdown",
   "metadata": {
    "slideshow": {
     "slide_type": "-"
    }
   },
   "source": [
    "Now that we have the bits, we can store them in our own custom data structure `Review` based on a `namedtuple`. We also create a function to parse the reviews into this data structure"
   ]
  },
  {
   "cell_type": "code",
   "execution_count": null,
   "metadata": {
    "slideshow": {
     "slide_type": "-"
    }
   },
   "outputs": [],
   "source": [
    "from collections import namedtuple # Need a library that gives us a named tuple\n",
    "\n",
    "Review = namedtuple('review',['label','subject','text'])"
   ]
  },
  {
   "cell_type": "code",
   "execution_count": null,
   "metadata": {
    "slideshow": {
     "slide_type": "-"
    }
   },
   "outputs": [],
   "source": [
    "def parseReview(text):\n",
    "    textSplit = text.split(\":\")\n",
    "    leader = textSplit[0]\n",
    "    text = textSplit[1]\n",
    "    subject = getSubject(leader)\n",
    "    label = getSentimentLabel(leader)\n",
    "    return Review(label,subject,text)"
   ]
  },
  {
   "cell_type": "code",
   "execution_count": null,
   "metadata": {
    "slideshow": {
     "slide_type": "-"
    }
   },
   "outputs": [],
   "source": [
    "structuredReviews = list(map(parseReview,reviews))\n",
    "structuredReviews"
   ]
  },
  {
   "cell_type": "markdown",
   "metadata": {},
   "source": [
    "## [5] Visualising with HTML"
   ]
  },
  {
   "cell_type": "markdown",
   "metadata": {
    "slideshow": {
     "slide_type": "-"
    }
   },
   "source": [
    "We have structured data now, but it is difficult to explore as it is not in a format that is easy for humans to read. Let's fix that..."
   ]
  },
  {
   "cell_type": "code",
   "execution_count": null,
   "metadata": {
    "slideshow": {
     "slide_type": "-"
    }
   },
   "outputs": [],
   "source": [
    "def reviewsToHtml(reviewList):\n",
    "    def pTag(review): #function that wraps review in tags\n",
    "        return '<p><b class=\"'+review.label+'\">'+review.subject+\"</b>: \"+review.text+\"</p>\"\n",
    "    paras = map(pTag,reviewList) #Apply the wrapping function to the list\n",
    "    return HTML(''.join(paras)) #Join the paragraphs together and return as HTML\n",
    "\n",
    "structReviewsHtml = reviewsToHtml(structuredReviews)\n",
    "css = HTML(\"\"\"<style>\n",
    ".positive { color: green; }\n",
    ".negative { color: red; }\n",
    "</style>\"\"\")"
   ]
  },
  {
   "cell_type": "code",
   "execution_count": null,
   "metadata": {
    "slideshow": {
     "slide_type": "-"
    }
   },
   "outputs": [],
   "source": [
    "display(css,structReviewsHtml)"
   ]
  },
  {
   "cell_type": "markdown",
   "metadata": {
    "slideshow": {
     "slide_type": "-"
    }
   },
   "source": [
    "**DISCUSSION**\n",
    "- We did this 50 reviews. How many could we do this task on?\n",
    "- What other structuring could we do to the data?\n",
    "- In what way/s might we have *corrupted* the data?"
   ]
  },
  {
   "cell_type": "markdown",
   "metadata": {
    "slideshow": {
     "slide_type": "slide"
    }
   },
   "source": [
    "## [6] Introducing Assignment 3\n",
    "\n",
    "* Assignment 3 (Reflective Journal) is on blackboard\n",
    "* Recommend using [GoingOK http://qut.goingok.org](http://qut.goingok.org) to record regular reflections\n",
    "* Formative component"
   ]
  },
  {
   "cell_type": "markdown",
   "metadata": {
    "slideshow": {
     "slide_type": "slide"
    }
   },
   "source": [
    "## [7] Introducing Assignment 1\n",
    "\n",
    "* Assignment 1 (Data Analytics Notebook) is on blackboard\n",
    "* 2 parts:\n",
    "    - Part A - basic skills notebook. Multiple attempts, guaranteed grade, computer marked.\n",
    "    - Part B - data analytics notebook for two questions. Demonstrate understanding of applying techniques to a specific question.\n",
    "* Success in part A will guarantee a grade of 4, degree of success in part B will determine final grade."
   ]
  }
 ],
 "metadata": {
  "celltoolbar": "Slideshow",
  "kernelspec": {
   "display_name": "Python 3",
   "language": "python",
   "name": "python3"
  },
  "language_info": {
   "codemirror_mode": {
    "name": "ipython",
    "version": 3
   },
   "file_extension": ".py",
   "mimetype": "text/x-python",
   "name": "python",
   "nbconvert_exporter": "python",
   "pygments_lexer": "ipython3",
   "version": "3.6.7"
  }
 },
 "nbformat": 4,
 "nbformat_minor": 2
}
